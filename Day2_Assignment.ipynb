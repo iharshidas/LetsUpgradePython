{
  "nbformat": 4,
  "nbformat_minor": 0,
  "metadata": {
    "colab": {
      "name": "Day2_Assignment.ipynb",
      "provenance": [],
      "authorship_tag": "ABX9TyNvZslWhegy1oGO+PKc3qQx",
      "include_colab_link": true
    },
    "kernelspec": {
      "name": "python3",
      "display_name": "Python 3"
    }
  },
  "cells": [
    {
      "cell_type": "markdown",
      "metadata": {
        "id": "view-in-github",
        "colab_type": "text"
      },
      "source": [
        "<a href=\"https://colab.research.google.com/github/iharshidas/LetsUpgradePython/blob/master/Day2_Assignment.ipynb\" target=\"_parent\"><img src=\"https://colab.research.google.com/assets/colab-badge.svg\" alt=\"Open In Colab\"/></a>"
      ]
    },
    {
      "cell_type": "markdown",
      "metadata": {
        "id": "dBKJrLl580aO"
      },
      "source": [
        "### **Questions 1:**\n",
        "Create an empty list. Accept 10 numbers from the user and append to it the list if it is an even number."
      ]
    },
    {
      "cell_type": "code",
      "metadata": {
        "id": "hB67EHQa8vby",
        "outputId": "ca647bae-9305-468f-8692-0b5366cbee21",
        "colab": {
          "base_uri": "https://localhost:8080/"
        }
      },
      "source": [
        "lst=[]\n",
        "while len(lst)!=10:\n",
        "  n=int(input())\n",
        "  if n%2==0:\n",
        "    lst.append(n)\n",
        "\n",
        "print(lst)"
      ],
      "execution_count": 1,
      "outputs": [
        {
          "output_type": "stream",
          "text": [
            "2\n",
            "3\n",
            "2\n",
            "2\n",
            "2\n",
            "2\n",
            "2\n",
            "3\n",
            "4\n",
            "5\n",
            "6\n",
            "7\n",
            "8\n",
            "9\n",
            "0\n",
            "[2, 2, 2, 2, 2, 2, 4, 6, 8, 0]\n"
          ],
          "name": "stdout"
        }
      ]
    },
    {
      "cell_type": "markdown",
      "metadata": {
        "id": "fy3WvdAP9DFD"
      },
      "source": [
        "### **Questions 2:**\n",
        "Create a notebook on LIST COMPREHENSION. This exercise is to put you in a Self learning mode\n"
      ]
    },
    {
      "cell_type": "code",
      "metadata": {
        "id": "z9k4sKy_95Mp",
        "outputId": "d07b26ec-2dfc-4ea6-e9a7-60ae2a645f0a",
        "colab": {
          "base_uri": "https://localhost:8080/"
        }
      },
      "source": [
        "lst=[]\n",
        "for i in 'Hello World':\n",
        "  lst.append(i)\n",
        "print(lst)\n",
        "\n",
        "lst2=[i for i in \"My List\"]\n",
        "lst2"
      ],
      "execution_count": 5,
      "outputs": [
        {
          "output_type": "stream",
          "text": [
            "['H', 'e', 'l', 'l', 'o', ' ', 'W', 'o', 'r', 'l', 'd']\n"
          ],
          "name": "stdout"
        },
        {
          "output_type": "execute_result",
          "data": {
            "text/plain": [
              "['M', 'y', ' ', 'L', 'i', 's', 't']"
            ]
          },
          "metadata": {
            "tags": []
          },
          "execution_count": 5
        }
      ]
    },
    {
      "cell_type": "markdown",
      "metadata": {
        "id": "EBaYjvN29IBQ"
      },
      "source": [
        "### **Questions 3:**\n",
        "You have seen in the videos how powerful dictionary data structure is.\n",
        "In this assignment, given a number n, you have to write a program that generates a dictionary d which\n",
        "contains (i, i*i), where i is from 1 to n (both included).\n",
        "Then you have to just print this dictionary d.\n",
        "\n",
        "Example:\n",
        "Input: 4\n",
        "will give output as\n",
        "{1: 1, 2: 4, 3: 9, 4: 16}\n",
        "\n",
        "Input Format:  \n",
        "Take the number n in a single line.\n",
        "\n",
        "Output Format:  \n",
        "Print the dictionary d in a single line.\n",
        "\n",
        "Example:\n",
        "Input:\n",
        "8\n",
        "Output:\n",
        "{1: 1, 2: 4, 3: 9, 4: 16, 5: 25, 6: 36, 7: 49, 8: 64}"
      ]
    },
    {
      "cell_type": "code",
      "metadata": {
        "id": "QnCo8KEB96OF",
        "outputId": "6c935a49-db24-4f08-b016-7a9c12b28c02",
        "colab": {
          "base_uri": "https://localhost:8080/"
        }
      },
      "source": [
        "n=int(input())\n",
        "d={}\n",
        "for i in range(1,n+1):\n",
        "  d[i]=i**2\n",
        "print(d)"
      ],
      "execution_count": 3,
      "outputs": [
        {
          "output_type": "stream",
          "text": [
            "7\n",
            "{1: 1, 2: 4, 3: 9, 4: 16, 5: 25, 6: 36, 7: 49}\n"
          ],
          "name": "stdout"
        }
      ]
    },
    {
      "cell_type": "markdown",
      "metadata": {
        "id": "-pIb8C-z9Thd"
      },
      "source": [
        "### **Questions 4:**\n",
        "There is a robot which wants to go the charging point to charge itself.\n",
        "The robot moves in a 2-D plane from the original point (0,0). The robot can\n",
        "move toward UP, DOWN, LEFT and RIGHT with given steps.\n",
        "The trace of robot movement is shown as the following:\n",
        "UP 5\n",
        "DOWN 3\n",
        "LEFT 3\n",
        "RIGHT 2\n",
        "Then, the output of the program should be:\n",
        "2\n",
        "The numbers after the direction are steps.\n",
        "Write a program to compute the distance between the current position after\n",
        "a sequence of movement and original point. If the distance is a float, then\n",
        "just print the nearest integer (use round() function for that and then convert\n",
        "it into an integer).\n",
        "\n",
        "Input Format:\n",
        "The first line of the input contains a number n which implies the number of\n",
        "directions to be given.  \n",
        "The next n lines contain the direction and the step separated by a space.\n",
        "\n",
        "Output Format:  \n",
        "Print the distance from the original position to the current position.\n",
        "\n",
        "Example:  \n",
        "Input:\n",
        "4  \n",
        "UP 5  \n",
        "DOWN 3  \n",
        "LEFT 3  \n",
        "RIGHT 2  \n",
        "Output:\n",
        "2"
      ]
    },
    {
      "cell_type": "code",
      "metadata": {
        "id": "eiPtGVBl965L",
        "outputId": "55b59365-ade6-4161-9daf-1b2183f00693",
        "colab": {
          "base_uri": "https://localhost:8080/"
        }
      },
      "source": [
        "n=int(input())\n",
        "d={}\n",
        "d['UP']=0\n",
        "d['DOWN']=0\n",
        "d['LEFT']=0\n",
        "d['RIGHT']=0\n",
        "for i in range(n):\n",
        "  step=input()\n",
        "  num=int(input())\n",
        "  d[step.upper()]=num\n",
        "  print(step.upper(),str(num))\n",
        "a=d['UP']-d['DOWN']\n",
        "b=d['LEFT']-d['RIGHT']\n",
        "dist=(a*a+b*b)**(1/2)\n",
        "round(dist)"
      ],
      "execution_count": 5,
      "outputs": [
        {
          "output_type": "stream",
          "text": [
            "2\n",
            "up\n",
            "3\n",
            "UP 3\n",
            "right\n",
            "4\n",
            "RIGHT 4\n"
          ],
          "name": "stdout"
        },
        {
          "output_type": "execute_result",
          "data": {
            "text/plain": [
              "5"
            ]
          },
          "metadata": {
            "tags": []
          },
          "execution_count": 5
        }
      ]
    }
  ]
}