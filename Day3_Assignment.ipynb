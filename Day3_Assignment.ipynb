{
  "nbformat": 4,
  "nbformat_minor": 0,
  "metadata": {
    "colab": {
      "name": "Day3_Assignment.ipynb",
      "provenance": [],
      "authorship_tag": "ABX9TyM98nEx4CshDStAzTg2vsCU",
      "include_colab_link": true
    },
    "kernelspec": {
      "name": "python3",
      "display_name": "Python 3"
    }
  },
  "cells": [
    {
      "cell_type": "markdown",
      "metadata": {
        "id": "view-in-github",
        "colab_type": "text"
      },
      "source": [
        "<a href=\"https://colab.research.google.com/github/iharshidas/LetsUpgradePython/blob/master/Day3_Assignment.ipynb\" target=\"_parent\"><img src=\"https://colab.research.google.com/assets/colab-badge.svg\" alt=\"Open In Colab\"/></a>"
      ]
    },
    {
      "cell_type": "markdown",
      "metadata": {
        "id": "x_YGOjclT_5a"
      },
      "source": [
        "### **Questions 1:**\n",
        "Create a numpy array starting from 2 till 50 with a stepsize of 3.\n"
      ]
    },
    {
      "cell_type": "code",
      "metadata": {
        "id": "QCA2xRfST6ci",
        "outputId": "b7d60dac-5e37-44f2-ea96-c886898d0e9f",
        "colab": {
          "base_uri": "https://localhost:8080/"
        }
      },
      "source": [
        "import numpy as np\n",
        "lst=[i for i in range(2,51,3)]\n",
        "a=np.array(lst)\n",
        "print(a)"
      ],
      "execution_count": 2,
      "outputs": [
        {
          "output_type": "stream",
          "text": [
            "[ 2  5  8 11 14 17 20 23 26 29 32 35 38 41 44 47 50]\n"
          ],
          "name": "stdout"
        }
      ]
    },
    {
      "cell_type": "markdown",
      "metadata": {
        "id": "UzqmQNxeUiPo"
      },
      "source": [
        "### **Questions 2:**\n",
        "Accept two lists of 5 elements each from the user.\n",
        "Convert them to numpy arrays. Concatenate these arrays and print it. Also sort these arrays and print it.\n"
      ]
    },
    {
      "cell_type": "code",
      "metadata": {
        "id": "j5F0LE7yqlYc",
        "outputId": "9c2a4d4e-12d1-49d1-9800-9832df640455",
        "colab": {
          "base_uri": "https://localhost:8080/"
        }
      },
      "source": [
        "lst=[]\n",
        "lst2=[]\n",
        "\n",
        "# List 1\n",
        "for i in range(5):\n",
        "  a=int(input())\n",
        "  lst.append(a)\n",
        "\n",
        "# List 2\n",
        "for i in range(5):\n",
        "  a=int(input())\n",
        "  lst2.append(a)\n",
        "\n",
        "arr=np.array(lst)\n",
        "arr2=np.array(lst2)\n",
        "print(arr)\n",
        "print(arr2)\n",
        "\n",
        "b=np.array(lst+lst2)\n",
        "print(b)\n",
        "\n",
        "b.sort()\n",
        "print(b)"
      ],
      "execution_count": 6,
      "outputs": [
        {
          "output_type": "stream",
          "text": [
            "5\n",
            "4\n",
            "3\n",
            "2\n",
            "1\n",
            "0\n",
            "9\n",
            "8\n",
            "7\n",
            "6\n",
            "[5 4 3 2 1]\n",
            "[0 9 8 7 6]\n",
            "[5 4 3 2 1 0 9 8 7 6]\n",
            "[0 1 2 3 4 5 6 7 8 9]\n"
          ],
          "name": "stdout"
        }
      ]
    },
    {
      "cell_type": "markdown",
      "metadata": {
        "id": "3yPndYFpUitd"
      },
      "source": [
        "### **Questions 3:**\n",
        "Write a code snippet to find the dimensions of a ndarray and its size.\n"
      ]
    },
    {
      "cell_type": "code",
      "metadata": {
        "id": "dDuAKPzWr7fs",
        "outputId": "993815c6-85b9-4dc1-8cc6-aff88baba4ad",
        "colab": {
          "base_uri": "https://localhost:8080/"
        }
      },
      "source": [
        "a=np.array([[1,2,3],[4,5,6],[7,8,9]])\n",
        "print(a.shape)\n",
        "print(a.size)"
      ],
      "execution_count": 11,
      "outputs": [
        {
          "output_type": "stream",
          "text": [
            "(3, 3)\n",
            "9\n"
          ],
          "name": "stdout"
        }
      ]
    },
    {
      "cell_type": "markdown",
      "metadata": {
        "id": "3kYNRfuvUidn"
      },
      "source": [
        "### **Questions 4:**\n",
        "How to convert a 1D array into a 2D array? Demonstrate with the help of a code snippet.  \n",
        "Hint: np.newaxis, np.expand_dims"
      ]
    },
    {
      "cell_type": "code",
      "metadata": {
        "id": "aRdErWhTbSq7",
        "outputId": "986a0d53-6288-4565-bea6-4c9af7613996",
        "colab": {
          "base_uri": "https://localhost:8080/"
        }
      },
      "source": [
        "a=np.array([1,2,3,4,5,6,7,8,9])\n",
        "print(a[np.newaxis,:])\n",
        "print(np.expand_dims(a,axis=0))"
      ],
      "execution_count": 20,
      "outputs": [
        {
          "output_type": "stream",
          "text": [
            "[[1 2 3 4 5 6 7 8 9]]\n",
            "[[1 2 3 4 5 6 7 8 9]]\n"
          ],
          "name": "stdout"
        }
      ]
    },
    {
      "cell_type": "markdown",
      "metadata": {
        "id": "L4Anr49MUiAA"
      },
      "source": [
        "### **Questions 5:**\n",
        "Consider two square numpy arrays. Stack them vertically and horizontally.  \n",
        "Hint: Use vstack(), hstack()\n"
      ]
    },
    {
      "cell_type": "code",
      "metadata": {
        "id": "sHyV0io1bTV8",
        "outputId": "97129881-d2a1-4987-b5d2-8e8b71137959",
        "colab": {
          "base_uri": "https://localhost:8080/"
        }
      },
      "source": [
        "a=np.array([[1,2,3],[4,5,6],[7,8,9]])\n",
        "b=np.array([[11,22,33],[44,55,66],[77,88,99]])\n",
        "print(np.vstack((a,b)))\n",
        "print()\n",
        "print(np.hstack((a,b)))"
      ],
      "execution_count": 29,
      "outputs": [
        {
          "output_type": "stream",
          "text": [
            "[[ 1  2  3]\n",
            " [ 4  5  6]\n",
            " [ 7  8  9]\n",
            " [11 22 33]\n",
            " [44 55 66]\n",
            " [77 88 99]]\n",
            "\n",
            "[[ 1  2  3 11 22 33]\n",
            " [ 4  5  6 44 55 66]\n",
            " [ 7  8  9 77 88 99]]\n"
          ],
          "name": "stdout"
        }
      ]
    },
    {
      "cell_type": "markdown",
      "metadata": {
        "id": "qNBgj6BhUbaa"
      },
      "source": [
        "### **Questions 6:**\n",
        "How to get unique items and counts of unique items?"
      ]
    },
    {
      "cell_type": "code",
      "metadata": {
        "id": "lTU9wdKHbUOM",
        "outputId": "e770c013-a20a-45d1-addf-426401b72313",
        "colab": {
          "base_uri": "https://localhost:8080/"
        }
      },
      "source": [
        "a=np.random.randint(0,10,7)\n",
        "print(a)\n",
        "(val,count)=np.unique(a,return_counts=True)\n",
        "print(np.asarray((val,count)).T)"
      ],
      "execution_count": 19,
      "outputs": [
        {
          "output_type": "stream",
          "text": [
            "[2 1 8 8 8 7 4]\n",
            "[[1 1]\n",
            " [2 1]\n",
            " [4 1]\n",
            " [7 1]\n",
            " [8 3]]\n"
          ],
          "name": "stdout"
        }
      ]
    }
  ]
}