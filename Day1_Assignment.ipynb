{
  "nbformat": 4,
  "nbformat_minor": 0,
  "metadata": {
    "colab": {
      "name": "Day1 Assignment.ipynb",
      "provenance": [],
      "collapsed_sections": [],
      "authorship_tag": "ABX9TyNqNU0DCh6SuI/LFsaNDwgE",
      "include_colab_link": true
    },
    "kernelspec": {
      "name": "python3",
      "display_name": "Python 3"
    }
  },
  "cells": [
    {
      "cell_type": "markdown",
      "metadata": {
        "id": "view-in-github",
        "colab_type": "text"
      },
      "source": [
        "<a href=\"https://colab.research.google.com/github/iharshidas/LetsUpgradePython/blob/master/Day1_Assignment.ipynb\" target=\"_parent\"><img src=\"https://colab.research.google.com/assets/colab-badge.svg\" alt=\"Open In Colab\"/></a>"
      ]
    },
    {
      "cell_type": "markdown",
      "metadata": {
        "id": "iLNrAh4A0hHw"
      },
      "source": [
        "### **Questions 1:**\n",
        "Given the following jumbled word, OBANWRI guess the correct English word.\n",
        "\n",
        "A. RANIBOW  \n",
        "B. RAINBOW  \n",
        "C. BOWRANI  \n",
        "D. ROBWANI\n",
        "\n",
        "**ANSWER:**  B. RAINBOW"
      ]
    },
    {
      "cell_type": "markdown",
      "metadata": {
        "id": "fAMTfPEQ0zYM"
      },
      "source": [
        "### **Questions 2:**\n",
        "Write a program which prints “LETS UPGRADE”. (Please note that you have to\n",
        "print in ALL CAPS as given)\n"
      ]
    },
    {
      "cell_type": "code",
      "metadata": {
        "id": "zY4GvEnwyfMn",
        "outputId": "29799432-6cdb-47c3-df87-ba8d9ad477fb",
        "colab": {
          "base_uri": "https://localhost:8080/"
        }
      },
      "source": [
        "string=\"Lets Upgrade\"\n",
        "print(string.upper())"
      ],
      "execution_count": null,
      "outputs": [
        {
          "output_type": "stream",
          "text": [
            "LETS UPGRADE\n"
          ],
          "name": "stdout"
        }
      ]
    },
    {
      "cell_type": "markdown",
      "metadata": {
        "id": "x25Vz2lP1EGy"
      },
      "source": [
        "### Questions 3:\n",
        "Write a program that takes cost price and selling price as input and displays whether the transaction is a\n",
        "Profit or a Loss or Neither.\n",
        "\n",
        "INPUT FORMAT  \n",
        "The first line contains the cost price.\n",
        "The second line contains the selling price.\n",
        "\n",
        "OUTPUT FORMAT  \n",
        "Print \"Profit\" if the transaction is a profit or \"Loss\" if it is a loss. If it is neither\n",
        "profit nor loss, print \"Neither\". (You must not have quotes in your output)"
      ]
    },
    {
      "cell_type": "code",
      "metadata": {
        "id": "otKyPJCW19xG",
        "outputId": "dda40b71-caa9-4ba8-c006-7a8314364a30",
        "colab": {
          "base_uri": "https://localhost:8080/"
        }
      },
      "source": [
        "cost_price=int(input())\n",
        "selling_price=int(input())\n",
        "if cost_price>selling_price:\n",
        "  print(\"Loss\")\n",
        "elif cost_price<selling_price:\n",
        "  print(\"Profit\")\n",
        "else:\n",
        "  print(\"Neither\")"
      ],
      "execution_count": null,
      "outputs": [
        {
          "output_type": "stream",
          "text": [
            "10\n",
            "30\n",
            "Profit\n"
          ],
          "name": "stdout"
        }
      ]
    },
    {
      "cell_type": "markdown",
      "metadata": {
        "id": "jplVmRfB1OwG"
      },
      "source": [
        "### **Questions 4:**\n",
        "Write a program that takes an amount in Euros as input. You need to find its equivalent in\n",
        "Rupees and display it. Assume 1 Euro equals Rs. 80.\n",
        "Please note that you are expected to stick to the given input and output\n",
        "format as in sample test cases. \n",
        "Your program should take only one number as input and display the output."
      ]
    },
    {
      "cell_type": "code",
      "metadata": {
        "id": "-w8klyEG3Z7o",
        "outputId": "aa6037a3-39c9-455b-f267-76b6267cd33d",
        "colab": {
          "base_uri": "https://localhost:8080/"
        }
      },
      "source": [
        "euros=int(input())\n",
        "rupees=euros*80\n",
        "print(rupees)"
      ],
      "execution_count": 4,
      "outputs": [
        {
          "output_type": "stream",
          "text": [
            "87\n",
            "6960\n"
          ],
          "name": "stdout"
        }
      ]
    }
  ]
}